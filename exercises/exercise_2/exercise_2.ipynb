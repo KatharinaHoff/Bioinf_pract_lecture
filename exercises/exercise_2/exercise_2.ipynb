{
 "cells": [
  {
   "cell_type": "markdown",
   "metadata": {},
   "source": [
    "# Exercise 2\n",
    "\n",
    "This exercise is suitable after you have complete lecture block 04.\n",
    "\n",
    "First steps with Python in bioinformatics. Solution of this exercise will not be submitted for correction. You find a sample solution in the subdirectory \"solution\". Do not peak before completing this exercise!\n",
    "\n",
    " 1. Open the script hello_world.py (contained in the same folder as this JupyterNotebook file). In JupyterHub, you can e.g. doubleclick on the file. Read the code, carefully. \n",
    "    * Why does the first line say `#!/opt/conda/bin/python3`? \n",
    "    * Did you learn about an alternative for this line for other Unix systems? What would that alternative be? \n",
    "    * Does the script contain code that should be executed in lines 1-6? What are the comment characters of python?\n",
    "    * What is supposed to happen in line 9?\n",
    "    * Use bash to make the script exectuable (e.g. `chmod u+x hello_world.py`) and execute it (e.g. `./hello_world.py`)."
   ]
  },
  {
   "cell_type": "code",
   "execution_count": 2,
   "metadata": {},
   "outputs": [
    {
     "name": "stderr",
     "output_type": "stream",
     "text": [
      "UsageError: %%script is a cell magic, but the cell body is empty.\n"
     ]
    }
   ],
   "source": [
    "%%script bash\n"
   ]
  },
  {
   "cell_type": "markdown",
   "metadata": {},
   "source": [
    "2. Open the script print_and_read.py (contained in the same folder as this JupyterNotebook file). In JupyterHub, you can e.g. doubleclick on the file. Read the code, carefully. \n",
    "   * Read the code carefully. What is supposed to happen when this script is executed?\n",
    "   * Make the script executable.\n",
    "   * Execute the script. Note: you will need an input file to call the script. The syntax for calling the script is stated in the script. It is `cat textfile | print_and_read.py`. You can use any file contained in the directory of this JupyterNotebook as input."
   ]
  },
  {
   "cell_type": "code",
   "execution_count": 3,
   "metadata": {},
   "outputs": [
    {
     "name": "stderr",
     "output_type": "stream",
     "text": [
      "UsageError: %%script is a cell magic, but the cell body is empty.\n"
     ]
    }
   ],
   "source": [
    "%%script bash"
   ]
  },
  {
   "cell_type": "markdown",
   "metadata": {},
   "source": [
    " 3. Write your own python script. It will be called print_name_subject.py. You find an empty template file in the directory of this JupyterNotebook. The script should contain code for the following steps:\n",
    "    1. Print the sentence \"Hello!\"\n",
    "    2. Print the statement \"Please enter you name!\"\n",
    "    3. Read a string (the name that a user will enter) from STDIN into a variable called `name`.\n",
    "    4. Print the question \"What is your study program?\"\n",
    "    5. Read a string (the study program that a user will enter) from STDIN into a variable called `subject`.\n",
    "    6. Print the statement *name studies subject.* (using the previously defined variables).\n",
    " All print directives may be written to STDOUT. Save your script. Make the script executable. Execute your script in a terminal."
   ]
  },
  {
   "cell_type": "code",
   "execution_count": 4,
   "metadata": {},
   "outputs": [
    {
     "name": "stderr",
     "output_type": "stream",
     "text": [
      "UsageError: %%script is a cell magic, but the cell body is empty.\n"
     ]
    }
   ],
   "source": [
    "%%script bash"
   ]
  },
  {
   "cell_type": "markdown",
   "metadata": {},
   "source": [
    "  4. Imagine a biologist without bioinformatics knowledge asks you for advice: She has a file with sequences (`sequence.fa` in the same directory as this JupyterNotebook). She wants to know:\n",
    "      a) How many sequences are contained in that file? (Hint: `grep`, `wc`)\n",
    "      b) How long are the sequences in that file? Write a python script to answer this question. Use the template fasta_length.py in the same directory as this JupyterNotebook. Make your script exectuable. Execute the script to answer the question. Hints: `strip()`, `startswith()` (Yes, you may have to put these functions into a search engine to learn about them!)\n",
    "     Additional information for both tasks: https://en.wikipedia.org/wiki/FASTA_format\n",
    "     "
   ]
  },
  {
   "cell_type": "code",
   "execution_count": 5,
   "metadata": {},
   "outputs": [
    {
     "name": "stderr",
     "output_type": "stream",
     "text": [
      "UsageError: %%script is a cell magic, but the cell body is empty.\n"
     ]
    }
   ],
   "source": [
    "%%script bash"
   ]
  },
  {
   "cell_type": "markdown",
   "metadata": {},
   "source": [
    "  6. **Exercise for the more advanced programmers among you, please skip if you feel overwhelmed, already):** Write a script num_stats.py (template is contained in the same folder as this JupyterNotebook file), that will compute the minimum, maximum and mean (hint: `numpy`, yes, put that into a search engine...) for a file that contains one number per line. Make the script executable. Execute the script. You can use `numbers.lst` as input file."
   ]
  },
  {
   "cell_type": "code",
   "execution_count": 6,
   "metadata": {},
   "outputs": [
    {
     "name": "stderr",
     "output_type": "stream",
     "text": [
      "UsageError: %%script is a cell magic, but the cell body is empty.\n"
     ]
    }
   ],
   "source": [
    "%%script bash"
   ]
  },
  {
   "cell_type": "code",
   "execution_count": null,
   "metadata": {},
   "outputs": [],
   "source": []
  }
 ],
 "metadata": {
  "kernelspec": {
   "display_name": "Python 3",
   "language": "python",
   "name": "python3"
  },
  "language_info": {
   "codemirror_mode": {
    "name": "ipython",
    "version": 3
   },
   "file_extension": ".py",
   "mimetype": "text/x-python",
   "name": "python",
   "nbconvert_exporter": "python",
   "pygments_lexer": "ipython3",
   "version": "3.7.6"
  }
 },
 "nbformat": 4,
 "nbformat_minor": 4
}
