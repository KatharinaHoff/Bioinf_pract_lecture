{
 "cells": [
  {
   "cell_type": "markdown",
   "metadata": {},
   "source": [
    "# Exercise 1\n",
    "\n",
    "The solution of this exercise will not be submitted for correction. The purpose of this exercise is to give you an opportunity to practice your skills and gain experience.\n",
    "\n",
    "The vast majority of bioinformatics tools is developed on Unix systems. Binaries for Windows are rather rarely available (instead, developers sometimes provide you with a web interface to some Unix server for executing their software). Therefore: get used to using Unix! All future exercises in this course will be done on Unix systems.\n",
    "\n",
    "## 1.1\n",
    "\n",
    "Find out your user name. For this, open a terminal and read in front of the prompt. Make sure that you know who you are. On this JupyterHub, you have an amazing user name that is more like a statement... -- double click here to write down you user name --\n",
    "\n",
    "## 1.2\n",
    "\n",
    "Create a directory `bioinfprakt`. You can either do this in your terminal (launch a terminal, there are instructions for this Moodle), or use the code window below to insert code and run that code block.\n"
   ]
  },
  {
   "cell_type": "code",
   "execution_count": 1,
   "metadata": {},
   "outputs": [
    {
     "name": "stderr",
     "output_type": "stream",
     "text": [
      "UsageError: %%script is a cell magic, but the cell body is empty.\n"
     ]
    }
   ],
   "source": [
    "%%script bash\n"
   ]
  },
  {
   "cell_type": "markdown",
   "metadata": {},
   "source": [
    "## 1.3\n",
    "\n",
    "Change into the new directory! Again, either do this in the terminal, or enter code in the code block below and execute."
   ]
  },
  {
   "cell_type": "code",
   "execution_count": 2,
   "metadata": {},
   "outputs": [
    {
     "name": "stderr",
     "output_type": "stream",
     "text": [
      "UsageError: %%script is a cell magic, but the cell body is empty.\n"
     ]
    }
   ],
   "source": [
    "%%script bash\n"
   ]
  },
  {
   "cell_type": "markdown",
   "metadata": {},
   "source": [
    "## 1.4\n",
    "\n",
    "Retrieve data by pasting the following into your terminal (in the bioinfprakt directory), or by entering the code in the block below and execute: `wget http://bioinf.uni-greifswald.de/augustus/binaries/tutorial.tar.gz`. (If you do it in the code block, it's normal that you'll see a large red block with 'errors' because `wget` writes download information to STDERR.)"
   ]
  },
  {
   "cell_type": "code",
   "execution_count": 3,
   "metadata": {},
   "outputs": [
    {
     "name": "stderr",
     "output_type": "stream",
     "text": [
      "UsageError: %%script is a cell magic, but the cell body is empty.\n"
     ]
    }
   ],
   "source": [
    "%%script bash\n"
   ]
  },
  {
   "cell_type": "markdown",
   "metadata": {},
   "source": [
    "## 1.5\n",
    "\n",
    "Unpack the directory with the following command: `tar -zxf tutorial.tar.gz`."
   ]
  },
  {
   "cell_type": "code",
   "execution_count": 4,
   "metadata": {},
   "outputs": [
    {
     "name": "stderr",
     "output_type": "stream",
     "text": [
      "UsageError: %%script is a cell magic, but the cell body is empty.\n"
     ]
    }
   ],
   "source": [
    "%%script bash\n"
   ]
  },
  {
   "cell_type": "markdown",
   "metadata": {},
   "source": [
    "## 1.6\n",
    "\n",
    "What is the size of all uncompressed files together? What is the size of the compressed file tutorial.tar.gz? (Hint: do not look at all single file sizes, there is a simple and automated way to compute the size of directory contents.)"
   ]
  },
  {
   "cell_type": "code",
   "execution_count": 5,
   "metadata": {},
   "outputs": [
    {
     "name": "stderr",
     "output_type": "stream",
     "text": [
      "UsageError: Cell magic `%%` not found.\n"
     ]
    }
   ],
   "source": [
    "%% script bash\n",
    "\n"
   ]
  },
  {
   "cell_type": "markdown",
   "metadata": {},
   "source": [
    "## 1.7\n",
    "\n",
    "Inspect the contents of the directory `data` in the folder `tutorial` with `ls -la tutorial/data/`.\n",
    "\n",
    "The contents should look similar to this:\n",
    "\n",
    "```\n",
    "total 91352\n",
    "drwxr-xr-x 2 katharina katharina     4096 Mär  2  2011 .\n",
    "drwxr-xr-x 4 katharina katharina     4096 Mär  2  2011 ..\n",
    "-rw-r--r-- 1 katharina katharina    76122 Jan  9  2011 allest.7M-8M.lst\n",
    "...\n",
    "-rw-r--r-- 1 katharina katharina    40861 Jan  9  2011 PRINTS-example.txt\n",
    "-rw-r--r-- 1 katharina katharina  5099092 Jan  9  2011 sequence.fasta\n",
    "\n",
    "```"
   ]
  },
  {
   "cell_type": "code",
   "execution_count": 6,
   "metadata": {},
   "outputs": [
    {
     "name": "stderr",
     "output_type": "stream",
     "text": [
      "UsageError: %%script is a cell magic, but the cell body is empty.\n"
     ]
    }
   ],
   "source": [
    "%%script bash\n"
   ]
  },
  {
   "cell_type": "markdown",
   "metadata": {},
   "source": [
    "## 1.8\n",
    "\n",
    "Understand the meaning of the output in exercise 1.7. \n",
    "\n",
    "-- double click here to write down what you think the output means --\n",
    "\n",
    "## 1.9\n",
    "\n",
    "Try the commands `less`, `head` and `tail` on the file `tutorial/data/sequence.fasta`. We recommend you use the terminal for less, and not the code block!"
   ]
  },
  {
   "cell_type": "code",
   "execution_count": 8,
   "metadata": {},
   "outputs": [
    {
     "name": "stderr",
     "output_type": "stream",
     "text": [
      "UsageError: %%script is a cell magic, but the cell body is empty.\n"
     ]
    }
   ],
   "source": [
    "%%script bash\n"
   ]
  },
  {
   "cell_type": "markdown",
   "metadata": {},
   "source": [
    "## 1.10\n",
    "\n",
    "How many lines does the file `tutorial/data/sequence.fasta` contain?"
   ]
  },
  {
   "cell_type": "code",
   "execution_count": 9,
   "metadata": {},
   "outputs": [
    {
     "name": "stderr",
     "output_type": "stream",
     "text": [
      "UsageError: %%script is a cell magic, but the cell body is empty.\n"
     ]
    }
   ],
   "source": [
    "%%script bash"
   ]
  },
  {
   "cell_type": "markdown",
   "metadata": {},
   "source": [
    "## 1.11\n",
    "\n",
    "How many sequences does the file `tutorial/data/sequence.fasta` contain? Hint 1: read about FASTA format for storing biological sequence data at https://en.wikipedia.org/wiki/FASTA_format Hints 2: `grep`, `wc`, `|` (pipe). There is more than one solution for this problem!"
   ]
  },
  {
   "cell_type": "code",
   "execution_count": 14,
   "metadata": {},
   "outputs": [
    {
     "name": "stderr",
     "output_type": "stream",
     "text": [
      "UsageError: %%script is a cell magic, but the cell body is empty.\n"
     ]
    }
   ],
   "source": [
    "%%script bash\n"
   ]
  },
  {
   "cell_type": "markdown",
   "metadata": {},
   "source": [
    "## 1.12\n",
    "\n",
    "Sort the file `hints.rnaseq.intron.gff` in `tutorial/data/sequence.fasta` numerically descending according to the fourth column and name the output file `hints.rnaseq.intron.s.gff`!\n",
    "\n",
    "If done correctly, \n",
    "\n",
    "`head hints.ranseq.intron.s.gff` should return:\n",
    "\n",
    "```\n",
    "chr2R\tb2h\tintron\t7980174\t7980251\t0\t.\t.\tmult=6;pri=4;src=E\n",
    "chr2R\tb2h\tintron\t7964804\t7966799\t0\t.\t.\tmult=990;pri=4;src=E\n",
    "chr2R\tb2h\tintron\t7964804\t7965460\t0\t.\t.\tgrp=SRR026433.7692809/2;pri=4;src=E\n",
    "chr2R\tb2h\tintron\t7964802\t7964954\t0\t.\t.\tgrp=SRR023546.3703119/2;pri=4;src=E\n",
    "chr2R\tb2h\tintron\t7964599\t7964653\t0\t.\t.\tgrp=SRR026433.20986167/1;pri=4;src=E\n",
    "chr2R\tb2h\tintron\t7964596\t7964690\t0\t.\t.\tgrp=SRR023505.4658896/2;pri=4;src=E\n",
    "chr2R\tb2h\tintron\t7954209\t7964560\t0\t.\t.\tmult=4;pri=4;src=E\n",
    "chr2R\tb2h\tintron\t7954206\t7964557\t0\t.\t.\tmult=969;pri=4;src=E\n",
    "chr2R\tb2h\tintron\t7954203\t7964554\t0\t.\t.\tmult=5;pri=4;src=E\n",
    "chr2R\tb2h\tintron\t7953667\t7953999\t0\t.\t.\tmult=9;pri=4;src=E\n",
    "```"
   ]
  },
  {
   "cell_type": "code",
   "execution_count": 13,
   "metadata": {},
   "outputs": [
    {
     "name": "stderr",
     "output_type": "stream",
     "text": [
      "UsageError: %%script is a cell magic, but the cell body is empty.\n"
     ]
    }
   ],
   "source": [
    "%%script bash\n"
   ]
  }
 ],
 "metadata": {
  "kernelspec": {
   "display_name": "Python 3",
   "language": "python",
   "name": "python3"
  },
  "language_info": {
   "codemirror_mode": {
    "name": "ipython",
    "version": 3
   },
   "file_extension": ".py",
   "mimetype": "text/x-python",
   "name": "python",
   "nbconvert_exporter": "python",
   "pygments_lexer": "ipython3",
   "version": "3.7.6"
  }
 },
 "nbformat": 4,
 "nbformat_minor": 4
}
