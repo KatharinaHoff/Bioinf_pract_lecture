{
 "cells": [
  {
   "cell_type": "markdown",
   "metadata": {},
   "source": [
    "# Printing and Reading (STDOUT/STDERR/STDIN)\n",
    "\n",
    "Getting file contents into your software and getting results and errors out are crucial concepts for writing your own bioinformatics scripts.\n",
    "\n",
    "The following code demonstrates printing to STDOUT: "
   ]
  },
  {
   "cell_type": "code",
   "execution_count": 7,
   "metadata": {},
   "outputs": [
    {
     "name": "stdout",
     "output_type": "stream",
     "text": [
      "This is printed to STDOUT\n"
     ]
    }
   ],
   "source": [
    "print(\"This is printed to STDOUT\")"
   ]
  },
  {
   "cell_type": "markdown",
   "metadata": {},
   "source": [
    "In Python, it is very common to print everything to STDOUT. You need to define your own function for printing to STDERR, and you are required to make a specific import statement:"
   ]
  },
  {
   "cell_type": "code",
   "execution_count": 8,
   "metadata": {},
   "outputs": [
    {
     "name": "stderr",
     "output_type": "stream",
     "text": [
      "This is printed to STDERR, errors are usually expected to end up in STDERR, not STDOUT\n"
     ]
    }
   ],
   "source": [
    "from __future__ import print_function\n",
    "\n",
    "\"\"\"eprint(str) print string to STDERR\"\"\"\n",
    "\n",
    "def eprint(*args, **kwargs):\n",
    "    import sys\n",
    "    print(*args, file=sys.stderr, **kwargs)\n",
    "\n",
    "eprint(\"This is printed to STDERR, errors are usually expected to end up in STDERR, not STDOUT\")"
   ]
  },
  {
   "cell_type": "markdown",
   "metadata": {},
   "source": [
    "For importing contents from a file into your python script via STDIN, we will first look at the contents of stdin_from_file.py:"
   ]
  },
  {
   "cell_type": "code",
   "execution_count": 16,
   "metadata": {},
   "outputs": [],
   "source": [
    "# %load stdin_from_file.py\n",
    "#!/opt/conda/bin/python3\n",
    "\n",
    "import fileinput\n",
    "for line in fileinput.input():\n",
    "    print(line)\n"
   ]
  },
  {
   "cell_type": "markdown",
   "metadata": {},
   "source": [
    "We will use a file that contains only one line of text to practice calling a script such as stdin_from_file.py with content from STDIN (this is a command for a terminal, not python code):"
   ]
  },
  {
   "cell_type": "code",
   "execution_count": 17,
   "metadata": {},
   "outputs": [
    {
     "name": "stdout",
     "output_type": "stream",
     "text": [
      "This is a trivial file content.\n",
      "\n"
     ]
    }
   ],
   "source": [
    "%%script bash\n",
    "chmod u+x stdin_from_file.py\n",
    "cat test.txt | ./stdin_from_file.py"
   ]
  },
  {
   "cell_type": "markdown",
   "metadata": {},
   "source": [
    "Above, we see the `fileinput.input()` function of module `fileinput`. This will be useful in most bioinformatics related procedures where you need to read file content from STDIN. \n",
    "However, if you want to ask the user who executes your script for information from STDIN from the actual keyboard, rather do it this way:"
   ]
  },
  {
   "cell_type": "code",
   "execution_count": 18,
   "metadata": {},
   "outputs": [],
   "source": [
    "# %load stdin_on_runtime.py\n",
    "#!/opt/conda/bin/python3\n",
    "\n",
    "print(\"Please type something:\")\n",
    "var = input()\n",
    "print(\"The user entered: \" + var)\n"
   ]
  },
  {
   "cell_type": "markdown",
   "metadata": {},
   "source": [
    "Behavior in a terminal looks like this:\n",
    "\n",
    "![call_stdin_on_runtime.jpg](call_stdin_on_runtime.jpg)\n",
    "    \n",
    "# Try/Except\n",
    "\n",
    "Make your code safe with try/except:"
   ]
  },
  {
   "cell_type": "code",
   "execution_count": 22,
   "metadata": {},
   "outputs": [
    {
     "name": "stderr",
     "output_type": "stream",
     "text": [
      "It is not allowed to divide anything by zero!\n"
     ]
    }
   ],
   "source": [
    "from __future__ import print_function\n",
    "\n",
    "\"\"\"eprint(str) print string to STDERR\"\"\"\n",
    "\n",
    "def eprint(*args, **kwargs):\n",
    "    import sys\n",
    "    print(*args, file=sys.stderr, **kwargs)\n",
    "\n",
    "try:\n",
    "    result = 5/0\n",
    "    print(\"The result is :\" + int(result))\n",
    "except ZeroDivisionError:\n",
    "    eprint(\"It is not allowed to divide anything by zero!\")"
   ]
  },
  {
   "cell_type": "markdown",
   "metadata": {},
   "source": [
    "# Indentation\n",
    "\n",
    "Correct indentation is a key feature of Python! Indentation means: inserting a correct number of whitespaces to make your code blocks look neat and tidy. In many languages, this is only about the **look**, in Python, incorrect indentation will break code functionality.\n",
    "\n",
    "You have no idea what I am talking about? Look above, at the code block with try/except. The lines after the `try:` statement are a bit more to the left. That's indentation.\n",
    "\n",
    "According to https://www.python.org/dev/peps/pep-0008/#tabs-or-spaces, **spaces** are the preferred indentation method, not **tabulators**. In text editors that are remotely suitable for writing Python source code, you can modify the **Settings** or **Preferences** to use spaces instead of tabulators. In gedit (a common editor on Ubuntu), e.g. go to Edit -> Preferences -> Editor -> enable \"Insert spaces instead of tabs\" and set the \"Tab width\" to 4.\n",
    "\n",
    "# If Statements\n",
    "\n",
    "If statements are essential programming concept. All programming languages support if statements (there's some variation in the syntax, but the principle is identical).\n",
    "\n",
    "**Syntax:**\n",
    "\n",
    "`\n",
    "if <condition1>:\n",
    "    <statements>\n",
    "elif <condition2>:\n",
    "    <statements>\n",
    "else:\n",
    "    <statements>\n",
    "`\n",
    "\n",
    "**Examples:**"
   ]
  },
  {
   "cell_type": "code",
   "execution_count": 26,
   "metadata": {},
   "outputs": [
    {
     "name": "stdout",
     "output_type": "stream",
     "text": [
      "var equals 10\n",
      "var is greater than 10 or equal to 10\n",
      "var is smaller than 10 or equal to 10\n",
      "var2 is Name\n",
      "var2 == Name\n",
      "var must be smaller than 10 or equal 10\n",
      "var must be smaller than 10 or equal ten and not 2\n"
     ]
    }
   ],
   "source": [
    "var = 10\n",
    "\n",
    "if(var == 10):\n",
    "    print(\"var equals 10\")\n",
    "\n",
    "if(var > 10):\n",
    "    print(\"var is greater than 10\")\n",
    "\n",
    "if(var < 10):\n",
    "    print(\"var is smaller than 10\")\n",
    "\n",
    "if(var >= 10):\n",
    "    print(\"var is greater than 10 or equal to 10\")\n",
    "\n",
    "if(var <= 10):\n",
    "    print(\"var is smaller than 10 or equal to 10\")\n",
    "\n",
    "# for strings, you can - in most cases - use is, because\n",
    "# identical strings are usually efficiently stored in the\n",
    "# same memory location. Exception: a string is read from STDIN.\n",
    "# For contents comparison, safer to use \"==\".\n",
    "var2 = \"Name\"\n",
    "if(var2 is \"Name\"):\n",
    "    print(\"var2 is Name\")\n",
    "\n",
    "var2 = \"Name\"\n",
    "if(var2 == \"Name\"):\n",
    "    print(\"var2 == Name\")\n",
    "\n",
    "# what to do if the condition is not fulfilled:\n",
    "if var > 10:\n",
    "    print(\"var is greater than 10\")\n",
    "else:\n",
    "    print(\"var must be smaller than 10 or equal 10\")\n",
    "\n",
    "\n",
    "# check several conditions:\n",
    "if(var > 10):\n",
    "    print(\"var is greater than 10\")\n",
    "elif(var == 2):\n",
    "    print(\"var is 2\")\n",
    "else:\n",
    "    print(\"var must be smaller than 10 or equal ten and not 2\")"
   ]
  },
  {
   "cell_type": "markdown",
   "metadata": {},
   "source": [
    "The following table gives an overview of boolean operations:\n",
    "\n",
    "| Operation | Description |\n",
    "| --- | --- |\n",
    "| `x or y` | if x is false, then y, else x |\n",
    "| `x and y` | if x is false, then x, else y |\n",
    "| `not x` | if x is false, then True, else False |\n",
    "\n",
    "Python supports the following comparison operators:\n",
    "\n",
    "| Operation | Description |\n",
    "| --- | --- |\n",
    "| `<` | strictly less than |\n",
    "| `<=` | less than or equal |\n",
    "| `>` | strictly greater than |\n",
    "| `>=` | greater than or equal |\n",
    "| `==` | equal |\n",
    "| `!=` | not equal |\n",
    "| `is` | object identity |\n",
    "| `is not` | negated object identity |\n",
    "\n",
    "Object identity with `is` compares the location in memory. We look at this with the script match_from_stdin.py:"
   ]
  },
  {
   "cell_type": "code",
   "execution_count": 27,
   "metadata": {},
   "outputs": [],
   "source": [
    "# %load match_from_stdin.py\n",
    "#!/opt/conda/bin/python3\n",
    "\n",
    "# is compares the memory locations of two objects\n",
    "# usually, to identical strings are efficiently put\n",
    "# to the same memory location\n",
    "var1 = \"ABC\"\n",
    "var2 = \"ABC\"\n",
    "print (\"Will compare the memory address of var1:\\n\" +\n",
    "       str(id(var1)) +\n",
    "       \"\\nto the memory address of var2:\\n\"\n",
    "       + str(id(var2)))\n",
    "if (var1 is var2):\n",
    "    print(\"var1 is var2 validated as True\")\n",
    "else:\n",
    "    print(\"var1 is var2 validated as False\")\n",
    "    \n",
    "#  a string is read from STDIN, it is stored in a different\n",
    "# place:\n",
    "print(\"Please type ABC and press enter:\")\n",
    "var3 = input()\n",
    "var3.strip()\n",
    "print(\"The memory location of var3: \" +\n",
    "      str(id(var3)))\n",
    "print(\"The contents of variables: var3=\" + var3 +\n",
    "      \",var2=\" + var2 + \",var1=\" + var1)\n",
    "#  THus, the comparison with it must validate False\n",
    "if (var1 is var3):\n",
    "    print(\"var1 is var3 with is validated as True\")\n",
    "else:\n",
    "    print(\"var1 is var3 with is validated as False\")\n",
    "#  Actual contents of string variables can be compared with ==\n",
    "# but usually, that is less efficient\n",
    "if (var1 == var3):\n",
    "    print(\"var1 == var3 with is validated as True\")\n",
    "else:\n",
    "    print(\"var1 == var3 with is validated as False\")\n",
    "if(var1 == var2):\n",
    "    print(\"var1 == var2 with is validated as True\")\n",
    "else:\n",
    "    print(\"var1 == var2 with is validated as False\")\n"
   ]
  },
  {
   "cell_type": "markdown",
   "metadata": {},
   "source": [
    "Behavior in the terminal looks like this:\n",
    "\n",
    "![run_match_from_stdin.jpg](run_match_from_stdin.jpg)\n",
    "\n",
    "# Loops\n",
    "\n",
    "Loops are one of the reasons that makes programming so very attractive: you can tell a computer to repeat the same task (or a derivative of some task) over and over, again. Loops are thus also a universal and essential programming concept. \n",
    "\n",
    "## For Loop\n",
    "\n",
    "For loops are helpful if you know how many times (or over how many exact elements) you want to iterate (repeat the task).\n",
    "\n",
    "**Syntax:**\n",
    "\n",
    "`\n",
    "for <variable> in <sequence>:\n",
    "    <statements>\n",
    "`\n"
   ]
  },
  {
   "cell_type": "code",
   "execution_count": 29,
   "metadata": {},
   "outputs": [
    {
     "name": "stdout",
     "output_type": "stream",
     "text": [
      "Iterating over list:\n",
      "A\n",
      "T\n",
      "C\n",
      "G\n",
      "N\n",
      "Iterating over range from 0 to 3 (ends at 2):\n",
      "0\n",
      "1\n",
      "2\n",
      "Iterating over range from 0 to 7, + continue if even number:\n",
      "1\n",
      "3\n",
      "5\n",
      "Iterating over range from 10 to 15, break if x > 11:\n",
      "10\n",
      "11\n"
     ]
    }
   ],
   "source": [
    "nucleotides = ['A', 'T', 'C', 'G', 'N']\n",
    "\n",
    "print(\"Iterating over list:\")\n",
    "for x in nucleotides:\n",
    "    print(x)\n",
    "\n",
    "print(\"Iterating over range from 0 to 3 (ends at 2):\")\n",
    "for x in range(0, 3):\n",
    "    print(x)\n",
    "\n",
    "print(\"Iterating over range from 0 to 7, + \"\n",
    "      \"continue if even number:\")\n",
    "for x in range(0, 7):\n",
    "    if((x % 2) == 0):\n",
    "        continue\n",
    "    else:\n",
    "        print(x)\n",
    "\n",
    "print(\"Iterating over range from 10 to 15, break if x > 11:\")\n",
    "for x in range(10, 15):\n",
    "    if x > 11:\n",
    "        break\n",
    "    print(x)"
   ]
  },
  {
   "cell_type": "markdown",
   "metadata": {},
   "source": [
    "## While Loop\n",
    "\n",
    "While loops are helpful if you want to repeat a task while some condition is valid. It is very important to be careful that you always make the running condition invalid, eventually. Otherwise, your while loop will run forever (or until you kill it).\n",
    "\n",
    "**Syntax:**\n",
    "\n",
    "`\n",
    "while condition:\n",
    "    <statements>\n",
    "    <remember to change condition>\n",
    "`\n",
    "\n",
    "**Example:**"
   ]
  },
  {
   "cell_type": "code",
   "execution_count": 30,
   "metadata": {},
   "outputs": [
    {
     "name": "stdout",
     "output_type": "stream",
     "text": [
      "The count is 0\n",
      "The count is 1\n",
      "The count is 2\n"
     ]
    }
   ],
   "source": [
    "count = 0\n",
    "\n",
    "while(count < 3):\n",
    "    print(\"The count is \" + str(count))\n",
    "    count += 1"
   ]
  },
  {
   "cell_type": "markdown",
   "metadata": {},
   "source": [
    "Remember: if you accidentally produce a never ending loop, these are your options to kill the process:\n",
    "\n",
    " * If the process is in foreground in your active bash session, press `CTRL+C`\n",
    " * If that fails or is impossible, use `top` to determine the `PID` of your process, end it with `kill PID` (or `kill -9 PID` if standard kill signal does not end it). (You will see your running python process in a terminal of JupyterHub if you cause such issues in JupyterNotebooks. The `CRTL+C` method is maybe not applicable to JupyterNotebook code.)"
   ]
  },
  {
   "cell_type": "markdown",
   "metadata": {},
   "source": [
    "## Exercise\n",
    "\n",
    "-> Please work on Exercise 1!"
   ]
  }
 ],
 "metadata": {
  "kernelspec": {
   "display_name": "Python 3",
   "language": "python",
   "name": "python3"
  },
  "language_info": {
   "codemirror_mode": {
    "name": "ipython",
    "version": 3
   },
   "file_extension": ".py",
   "mimetype": "text/x-python",
   "name": "python",
   "nbconvert_exporter": "python",
   "pygments_lexer": "ipython3",
   "version": "3.7.6"
  }
 },
 "nbformat": 4,
 "nbformat_minor": 4
}
