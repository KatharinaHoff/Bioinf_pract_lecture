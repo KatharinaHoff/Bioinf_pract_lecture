{
 "cells": [
  {
   "cell_type": "markdown",
   "metadata": {},
   "source": [
    "# Variable Types\n",
    "\n",
    "A variable (in any programming language) is a human-readable and human-interpretable synomnym for a hardware address block in the memory (RAM) of a computer. Everything that you store in RAM resides at some binary address that looks super long to humans. These binary addresses can be encoded as hexadecimal addresses - but they will still look very odd to the human eye. Therefore, we assign easy names - variable names - to such addresses when we want to use them.\n",
    "\n",
    "Compared to other programming languages, such as C++, Python is extremely easy in terms of variables. Most things are taken care of, automatically. Simply use variables, and you are good to go.\n",
    "\n",
    "Python automatically guesses variable types upon assignment of values:"
   ]
  },
  {
   "cell_type": "code",
   "execution_count": 2,
   "metadata": {},
   "outputs": [
    {
     "name": "stdout",
     "output_type": "stream",
     "text": [
      "4\n",
      "100.0\n",
      "Hello world\n",
      "False\n",
      "10\n",
      "10\n",
      "10\n",
      "A\n",
      "2\n",
      "True\n"
     ]
    }
   ],
   "source": [
    "var1 = 4                          # integer\n",
    "var2 = 100.0                      # float\n",
    "var3 = \"Hello world\"              # string\n",
    "var4 = False                      # bool\n",
    "var5 = var6 = var7 = 10           # multiple assignment\n",
    "var8, var9, var10 = \"A\", 2, True  # multiple assigment\n",
    "\n",
    "print(var1)\n",
    "print(var2)\n",
    "print(var3)\n",
    "print(var4)\n",
    "print(var5)\n",
    "print(var6)\n",
    "print(var7)\n",
    "print(var8)\n",
    "print(var9)\n",
    "print(var10)"
   ]
  },
  {
   "cell_type": "markdown",
   "metadata": {},
   "source": [
    "Python has five standard data types:\n",
    "\n",
    " * Number\n",
    " * String\n",
    " * List \n",
    " * Tuple\n",
    " * Dictionary\n",
    "\n",
    "## Python Numbers\n",
    "\n",
    "Python supports three different numerical types:\n",
    "\n",
    " * int (always stored as **long integers**)\n",
    " * float\n",
    " * complex\n",
    "\n",
    "In this course, we will only use int (natural numbers including zero and negativ natural numbers, there is of course no infinity on computers, you will eventually reach a largest number than can be stored, however, python always stores int in such a way that there is space to expand the number to become the largest possible number, a long integer) and float. \n",
    "\n",
    "## Python Strings\n",
    "\n",
    "A string is a contiguous set of characters in quotation marks (single or double quotes). Strings can be **sliced** with `[]`. (Note that the hash # is comment character. Comments are ignored by the python interpreter. They only serve documentation purposes.)"
   ]
  },
  {
   "cell_type": "code",
   "execution_count": 4,
   "metadata": {},
   "outputs": [
    {
     "name": "stdout",
     "output_type": "stream",
     "text": [
      "Hello world!\n",
      "H\n",
      "el\n",
      "llo world!\n",
      "Hello world!Hello world!\n",
      "Hello world!other text\n"
     ]
    }
   ],
   "source": [
    "var = 'Hello world!'\n",
    "\n",
    "print(var)                # complete var\n",
    "print(var[0])             # first character\n",
    "print(var[1:3])           # characters starting from 2rd to 4th\n",
    "print(var[2:])            # var starting from 3rd\n",
    "print(var * 2)            # var twice\n",
    "print(var + \"other text\")  # concatenated strings"
   ]
  },
  {
   "cell_type": "markdown",
   "metadata": {},
   "source": [
    "For example, DNA, RNA or protein sequences can be stored as strings.\n",
    "\n",
    "## Python Lists\n",
    "\n",
    "Lists can contain items of different data types. Lists can be **sliced** with `[]`."
   ]
  },
  {
   "cell_type": "code",
   "execution_count": 6,
   "metadata": {},
   "outputs": [
    {
     "name": "stdout",
     "output_type": "stream",
     "text": [
      "['abc', 1, 4.5, 'hello', True]\n",
      "abc\n",
      "[1, 4.5]\n",
      "[4.5, 'hello', True]\n",
      "['a', 0, 'a', 0]\n",
      "['abc', 1, 4.5, 'hello', True, 'a', 0]\n"
     ]
    }
   ],
   "source": [
    "var1 = ['abc', 1, 4.5, 'hello', True]\n",
    "var2 = [\"a\", 0]\n",
    "\n",
    "print(var1)          # complete var1\n",
    "print(var1[0])       # first element of the var1\n",
    "print(var1[1:3])     # elements starting from 2nd till 3rd\n",
    "print(var1[2:])      # elements starting from 3rd element\n",
    "print(var2 * 2)      # var2 two times\n",
    "print(var1 + var2)   # concatenated var1 and var2"
   ]
  },
  {
   "cell_type": "markdown",
   "metadata": {},
   "source": [
    "For example, a list can be used to store the lengths of exons (when no association of the length with specific genes is required).\n",
    "\n",
    "## Python Tuples\n",
    "\n",
    "Tuples smilar to lists, but they are **read only**, i.e. values cannot be updated after they have been set, once."
   ]
  },
  {
   "cell_type": "code",
   "execution_count": 8,
   "metadata": {},
   "outputs": [
    {
     "name": "stdout",
     "output_type": "stream",
     "text": [
      "('abc', 1, 4.5, 'hello', True)\n",
      "abc\n",
      "(1, 4.5)\n",
      "(4.5, 'hello', True)\n",
      "('a', 0, 'a', 0)\n",
      "('abc', 1, 4.5, 'hello', True, 'a', 0)\n"
     ]
    }
   ],
   "source": [
    "var1 = ('abc', 1, 4.5, 'hello', True)\n",
    "var2 = (\"a\", 0)\n",
    "\n",
    "print(var1)          # complete var1\n",
    "print(var1[0])       # first element of the var1\n",
    "print(var1[1:3])     # elements starting from 2nd till 3rd\n",
    "print(var1[2:])      # elements starting from 3rd element\n",
    "print(var2 * 2)      # var2 two times\n",
    "print(var1 + var2)   # concatenated var1 and var2"
   ]
  },
  {
   "cell_type": "markdown",
   "metadata": {},
   "source": [
    "For example, you might store the translation table from nucleotide triplets into amino acids as tuples. If you have no idea what I am talking about, read up on DNA (https://de.wikipedia.org/wiki/Desoxyribonukleins%C3%A4ure), amino acids (https://en.wikipedia.org/wiki/Amino_acid), translation (https://en.wikipedia.org/wiki/Translation_(biology)) and genetic code (https://en.wikipedia.org/wiki/DNA_codon_table).\n",
    "\n",
    "## Python Dictionaries\n",
    "\n",
    "A dictionary can store **key-value pairs**."
   ]
  },
  {
   "cell_type": "code",
   "execution_count": 10,
   "metadata": {},
   "outputs": [
    {
     "name": "stdout",
     "output_type": "stream",
     "text": [
      "value1\n",
      "4566\n",
      "{'header1': 'ATGCCGTN', 'header2': 'TGA'}\n",
      "dict_keys(['header1', 'header2'])\n",
      "dict_values(['ATGCCGTN', 'TGA'])\n"
     ]
    }
   ],
   "source": [
    "var = {}                    # declare a dict\n",
    "var['key1'] = \"value1\"      # assign a key-value pair\n",
    "var['key2'] = 0\n",
    "var[85] = 4566              # keys and values can be\n",
    "                            # different data types\n",
    "seq = {'header1': 'ATGCCGTN', 'header2': 'TGA'}\n",
    "\n",
    "print(var['key1'])       # value for 'key1'\n",
    "print(var[85])           # value for key 85\n",
    "print(seq)               # complete seq\n",
    "print(seq.keys())        # all the keys of seq\n",
    "print(seq.values())      # all the values of seq"
   ]
  },
  {
   "cell_type": "markdown",
   "metadata": {},
   "source": [
    "For example, biological sequences associated with human readable sequence names can be stored in dictionaries.\n",
    "\n",
    "## Data Type Conversion\n",
    "\n",
    "Sometimes, you need to perform conversions between different data types. Some conversion functions:\n",
    "\n",
    "\n",
    "| Function | Description |\n",
    "| --- | --- |\n",
    "| `int(x,[base])` | converts x to an int |\n",
    "| `float(x)` | converts to a float |\n",
    "| `str(x)` | converts to string |\n",
    "| `tuple(s)` | converts s to a tuple |\n",
    "| `list(s)` | converts s to a list |\n",
    "| `dict(d)` | converts d to a dict |\n",
    "| `chr(x)` | converts int x to character |\n",
    "| `ord(x)` | converts character x to integer|"
   ]
  },
  {
   "cell_type": "code",
   "execution_count": 11,
   "metadata": {},
   "outputs": [
    {
     "name": "stdout",
     "output_type": "stream",
     "text": [
      "The number is 5\n"
     ]
    }
   ],
   "source": [
    "var1 = 5                          # declare an int\n",
    "print('The number is ' + str(5))  # convert int to str"
   ]
  },
  {
   "cell_type": "markdown",
   "metadata": {},
   "source": [
    "## Exercise\n",
    "\n",
    "-> Please work on Exercise 1!"
   ]
  },
  {
   "cell_type": "code",
   "execution_count": null,
   "metadata": {},
   "outputs": [],
   "source": []
  }
 ],
 "metadata": {
  "kernelspec": {
   "display_name": "Python 3",
   "language": "python",
   "name": "python3"
  },
  "language_info": {
   "codemirror_mode": {
    "name": "ipython",
    "version": 3
   },
   "file_extension": ".py",
   "mimetype": "text/x-python",
   "name": "python",
   "nbconvert_exporter": "python",
   "pygments_lexer": "ipython3",
   "version": "3.7.6"
  }
 },
 "nbformat": 4,
 "nbformat_minor": 4
}
