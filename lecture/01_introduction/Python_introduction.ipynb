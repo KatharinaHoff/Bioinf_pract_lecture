{
 "cells": [
  {
   "cell_type": "markdown",
   "metadata": {},
   "source": [
    "# Programming Languages for Bioinformatics\n",
    "\n",
    "The most common programming languages for bioinformatics are:\n",
    "\n",
    " * Bash - fast and efficient file manipulation\n",
    " * Python - clear multi-purpose language, excellent math support, very easy to learn, increasingly popular for analysis of biological sequences, *BioPython*\n",
    " * Perl - scripting language, strong in string manipulation, sometimes for confusing for beginners, *traditionally* used in analysis of biological sequences, *BioPerl*\n",
    " * C++ - required for computationally expensive tasks, more difficult to learn\n",
    " * R - statistical programming language, also often used for solving specific bioinformatics problems with existing packages\n",
    " * Java - platform independence, more difficult to learn than scripting languages, but for some users easier to learn than C++\n",
    "\n",
    "Python has in my opinion advanced to a multi-purpose language. If you are able to master Python, you will be capable of analyzing biological sequence data, performing statistical analysis, visuzalizing data, using machine learning very efficiently, and more. In this class, we will therefore focus on learning how to use Python3, and how to apply it to problems in bioinformatics.\n",
    "\n",
    "(Be aware that there are major difference between Python3 and older Python standards! See e.g. https://sebastianraschka.com/Articles/2014_python_2_3_key_diff.html)\n",
    "\n",
    "# Installation \n",
    "\n",
    "Skip over this section if you are working with JupyterHub, for now. This is only to provide you with the necessary information to work on an Ubuntu system. (Be aware that even though Python is platform independent, there are system-specific differences. I will not give support for Windows installation. We are also able to test and correct your code if you developed on Windows. Please use Unix for development if working outside of JupyterHub.)\n",
    "\n",
    "On Ubuntu, install python3, pip, and numpy with:\n",
    "\n",
    "`\n",
    "sudo apt-get update\n",
    "sudo apt-get upgrade\n",
    "sudo apt-get install python3 python3-pip python3-numpy \n",
    "`\n",
    "\n",
    "(The first two lines will bring your system up to date prior installation.)\n",
    "\n",
    "For using biopython, install via pip:\n",
    "\n",
    "`\n",
    "pip3 install biopython\n",
    "`\n",
    "\n",
    "If installation of biopython via pip fails because your system cannot access online repositories for package download (we observed this when Ubuntu is run as a virtual machine within Windows, and Windows runs a firewall), do the following:\n",
    "\n",
    "\n",
    " 1)  Download the package sources from \\url{https://biopython.org/wiki/Download}, the file could be called \\texttt{biopython-1.72.tar.gz}.\n",
    " \n",
    " 2) Transfer the downloaded file to your computer.\n",
    " \n",
    " 3) Install from local file with pip:\n",
    "    `pip3 install --no-index --find-links=\"/tmp/tranferred_packages\" biopython`\n",
    "\n",
    "\n",
    "For using doit, install via pip:\n",
    "\n",
    "`\n",
    "pip3 install doit\n",
    "`\n",
    "\n",
    "# Modes for using Python\n",
    "\n",
    "## JupyterNotebook\n",
    "\n",
    "There are different ways to use Python. In the current course, we will in the beginning mostly use the JupyterNotebooks, which provide an excellent interface documentation and interactive code that you can modify to your liking to test how Python works. You are already familar with this mode from the Bash introduction.\n",
    "\n",
    "## Interactive Usage\n",
    "\n",
    "In your terminal, call python3:\n",
    "\n",
    "![python_bash.jpg](python_bash.jpg)\n",
    "\n",
    "This mode might be helpful for fast testing of syntax. It is usually not suitable for solving complex bioinformatics tasks in a reproducible way. However, if you use interactive mode, I recommend that you type commands in a Text file (e.g. name it make.doc) and copy/paste into the Python command prompt, instead of typing there, directly. This enables you to store and document your code in the most primitive way.\n",
    "\n",
    "## Python Scripts\n",
    "\n",
    "If you want to replicate your tasks and distribute the code as standalone software, later, organize your code in *scripts*. We strongly recommend that your python scripts have the following properties:\n",
    "\n",
    " * the header contains the path to python3 on your system (on JupyterHub, that's `#!/opt/conda/bin/python3`, on most other Unix systems the actual path to python3 will be located with the directive `#!/usr/bin/env python3`); this tells your system to use the version of python3 that is found in your `PATH` (this statement is not required for *module files* associated with your main script)\n",
    " * file ending should be `.py`\n",
    " * file contains code in python3\n",
    " \n",
    "Sidenote: remember, the `PATH` is the location where Unix systems look for binaries, i.e. executable python scripts! It's a collection of directories. You can manipulate that collection of directories if you want to!\n",
    "\n",
    "You find a Python script `hello_world.py` in the directory of this JupyterNotebook. Doubleclick the file and inspect contents. The functionality of the script is trivial. It will print the string \"Hello world\". Next, we will make this script executable and execute it. First, we do this from within the JupyterNotebook:"
   ]
  },
  {
   "cell_type": "code",
   "execution_count": 7,
   "metadata": {},
   "outputs": [
    {
     "name": "stdout",
     "output_type": "stream",
     "text": [
      "-rwxr--r-- 1 38458 users 176 Apr 27 13:35 hello_world.py\n",
      "-rwxr--r-- 1 38458 users 176 Apr 27 13:35 hello_world.py\n",
      "Next, we will execute the script, output will appear below:\n",
      "Hello world\n"
     ]
    }
   ],
   "source": [
    "%%script bash\n",
    "cd ~/\n",
    "cd Python_introduction\n",
    "ls -l hello_world.py\n",
    "chmod u+x hello_world.py\n",
    "ls -l hello_world.py\n",
    "echo \"Next, we will execute the script, output will appear below:\"\n",
    "./hello_world.py"
   ]
  },
  {
   "cell_type": "markdown",
   "metadata": {},
   "source": [
    "Of course, such scripts can also be executed from the terminal, instead of a JupyterNotebook:\n",
    "\n",
    "![execute_in_terminal.jpg](execute_in_terminal.jpg)\n",
    "\n",
    "It's probably much more common to execute such scripts in the terminal than to call scripts from a JupyterNotebook.\n",
    "\n",
    "Take note of the dot and the slash (./) in front of the script name (please compare to the script name when calling e.g. `ls -l` - there are no dot and slash that were a part of the file name! We specify the dot and the slash in front of the script name in order say: \"execute the script that is located at ./hello_world.py\" and ./ is the current directory what are residing in. We called the script by a relative path specification.\n",
    "\n",
    "If `hello_world.py` is executable, and if the location of `hello_world.py` is in your `PATH`, then you can call it with:\n",
    "\n",
    "`hello_world.py`\n",
    "                                                                     \n",
    "(no dot, no slash)\n",
    "\n",
    "The output will be identical since we would call the same script.\n",
    "\n",
    "### Executability\n",
    "\n",
    "If the script is not executable, this happens:\n",
    "\n",
    "![permission_denied.jpg](permission_denied.jpg)\n",
    "\n",
    "You can check the executability status of a script:"
   ]
  },
  {
   "cell_type": "code",
   "execution_count": 11,
   "metadata": {},
   "outputs": [
    {
     "name": "stdout",
     "output_type": "stream",
     "text": [
      "-rw-r--r-- 1 38458 users 176 Apr 27 13:35 hello_world.py\n"
     ]
    }
   ],
   "source": [
    "%%script bash\n",
    "cd ~/Python_introduction\n",
    "chmod u-x hello_world.py\n",
    "ls -l hello_world.py"
   ]
  },
  {
   "cell_type": "markdown",
   "metadata": {},
   "source": [
    "In the above example, the file is not executable (the `x` for user with some number is missing). If it was executable for user, it would look like this:\n",
    "\n",
    "\n",
    "\n",
    "\n"
   ]
  },
  {
   "cell_type": "code",
   "execution_count": 13,
   "metadata": {},
   "outputs": [
    {
     "name": "stdout",
     "output_type": "stream",
     "text": [
      "-rwxr--r-- 1 38458 users 176 Apr 27 13:35 hello_world.py\n"
     ]
    }
   ],
   "source": [
    "%%script bash\n",
    "cd ~/Python_introduction\n",
    "chmod u+x hello_world.py\n",
    "ls -l hello_world.py"
   ]
  },
  {
   "cell_type": "markdown",
   "metadata": {},
   "source": [
    "You have two options to call the script after identifying above problem (script is not executable):\n",
    "\n",
    " 1. Call the script with the exectuable interpreter (that can be found in your `PATH`): `python3 hello_world.py`\n",
    " 2. Make the script exectuable, afterwards, you call it without interpreter statement because the interpreter is contained in the first line of the script: `chmod u+x hello_world.py; hello_world.py` (I here assume that the script is in your `PATH`.)\n",
    "\n",
    "### Location\n",
    "\n",
    "If the script is not in your `PATH`, this happens:\n",
    "\n",
    "![command_not_found.jpg](command_not_found.jpg)\n",
    "\n",
    "You have three options:\n",
    "\n",
    " 1. Call the script with an interpreter that is in your `PATH`: `python3 hello_world.py`\n",
    " 2. Call the script with explicit path, examples:\n",
    "    * If the script is in your current directory (check with `cwd` where you are, or check with `ls` whether the script is where you are), call the script with a leading `./` to tell the system that you mean the script is this particular directory: `./hello_world.py`\n",
    "    * Call the script with absolute or relative path, e.g. `~/Python_introduction/hello_world.py`\n",
    " 3. Extend your `PATH` variable. The `PATH` variable contains all locations where the system looks for executable files that are called without explicit path. Check which locations are already in your `PATH` with:\n",
    " \n",
    "\n",
    " "
   ]
  },
  {
   "cell_type": "code",
   "execution_count": 19,
   "metadata": {},
   "outputs": [
    {
     "name": "stdout",
     "output_type": "stream",
     "text": [
      "/opt/conda/bin:/usr/local/sbin:/usr/local/bin:/usr/sbin:/usr/bin:/sbin:/bin\n"
     ]
    }
   ],
   "source": [
    "%%script bash\n",
    "echo $PATH"
   ]
  },
  {
   "cell_type": "markdown",
   "metadata": {},
   "source": [
    "Typically, local folders in your home directory are not contained in `PATH` by default, but you can extend contents of the `PATH` variable. You have the option to do this for a single terminal session, or for all future terminal sessions. For demonstration, we assume that your script is located in the directory `~/Python_introduction`:\n",
    "\n",
    "  * Modify `PATH` for a single terminal session:\n",
    "    1. Type: `PATH=~/Python_introduction:$PATH` into your terminal. **Be careful not to add any spaces, do not forget to add `:$PATH` at the end** (If you make mistakes here, the current terminal window will not be able to locate any of the usual bash commands, anymore... if you make this mistake: close the terminal, open a new one, try again.\n",
    "    2. Test your path modification: `echo $PATH` should now return the original directories in `$PATH` and in addition the novel directory at the very beginning.\n",
    "\n",
    "Demonstration of the process in JupyterNotebook instead of terminal:\n",
    "\n",
    "  \n",
    " "
   ]
  },
  {
   "cell_type": "code",
   "execution_count": 23,
   "metadata": {},
   "outputs": [
    {
     "name": "stdout",
     "output_type": "stream",
     "text": [
      "Show original $PATH:\n",
      "/opt/conda/bin:/usr/local/sbin:/usr/local/bin:/usr/sbin:/usr/bin:/sbin:/bin\n",
      "Modifying $PATH.\n",
      "Show extended new $PATH:\n",
      "/home/jovyan/Python_introduction:/opt/conda/bin:/usr/local/sbin:/usr/local/bin:/usr/sbin:/usr/bin:/sbin:/bin\n"
     ]
    }
   ],
   "source": [
    "%%script bash\n",
    "echo \"Show original \\$PATH:\"\n",
    "echo $PATH\n",
    "echo \"Modifying \\$PATH.\"\n",
    "PATH=~/Python_introduction:$PATH\n",
    "echo \"Show extended new \\$PATH:\"\n",
    "echo $PATH"
   ]
  },
  {
   "cell_type": "markdown",
   "metadata": {},
   "source": [
    "  * Modify `PATH` for all (future) terminal sessions (**Warning: always test the path modification in a terminal on the target machine prior permanently modifying the path!**):\n",
    "    1. Open the bash configuration file `~/.profile` in a text editor, e.g. vi (vi is an old school editor that requires very little resources but is a bit odd to use for beginners):\n",
    "       * Type `vi ~/.profile` into your terminal.\n",
    "       * Press the letter lowercase `a` on your keyboard, this takes you into editing mode.\n",
    "       * Use the arrow-down key navigate to the bottom of your file (if you do this for the first time, the `~/.profile` will be empty and you don't have go anywhere, just stay in the current line.)\n",
    "       * At the bottom of the file, add your `PATH` modification: `PATH=~/Python_introduction:$PATH`\n",
    "       * Press escape key (this takes you out of editing mode)\n",
    "       * Type the letters `:wq` (this saves the file and quits vi).\n",
    "    2. In any **new** terminal window, the modified `PATH` will now automatically be loaded. To enable the modification in your current (**old**) terminal session, type: `source ~/.profile`. \n",
    "    3. Test your path modification: `echo $PATH` should now include your prepended directory.\n",
    "    \n",
    "Note: On other systems than JupyterHub, it's often more common to store path extensions in a file called `~/.bashrc`. There, you simply use `~/.bashrc` instead of `~/.profile`.\n",
    "\n",
    "Please make sure that you understand the concept of the `$PATH` variable. It is an essential concept for using third-party software on Unix systems.\n"
   ]
  },
  {
   "cell_type": "code",
   "execution_count": null,
   "metadata": {},
   "outputs": [],
   "source": []
  }
 ],
 "metadata": {
  "kernelspec": {
   "display_name": "Python 3",
   "language": "python",
   "name": "python3"
  },
  "language_info": {
   "codemirror_mode": {
    "name": "ipython",
    "version": 3
   },
   "file_extension": ".py",
   "mimetype": "text/x-python",
   "name": "python",
   "nbconvert_exporter": "python",
   "pygments_lexer": "ipython3",
   "version": "3.7.6"
  }
 },
 "nbformat": 4,
 "nbformat_minor": 4
}
