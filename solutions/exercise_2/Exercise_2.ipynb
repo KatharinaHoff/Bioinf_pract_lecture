{
 "cells": [
  {
   "cell_type": "markdown",
   "metadata": {},
   "source": [
    "# Bioinformatics Practical: Exercise 2\n",
    "\n",
    "First steps with Python in bioinformatics. Solution of this exercise will not be submitted for correction. You will receive access to a sample solution, later.\n",
    "\n",
    " 1. Open the script hello_world.py (contained in the same folder as this JupyterNotebook file). In JupyterHub, you can e.g. doubleclick on the file. Read the code, carefully. \n",
    "    * Why does the first line say `#!/opt/conda/bin/python3`? *This is the shebang, it tells the computer where the software to execute this script is located.*\n",
    "    * Did you learn about an alternative for this line for other Unix systems? What would that alternative be? *On most unix systems, `!#/usr/bin/env python3` will work. This is to be preferred over pointing to a hardcoded path. It does not work in JupyterHub, though.*\n",
    "    * Does the script contain code that should be executed in lines 1-6? What are the comment characters of python? *No, there is no code to executed in lines 1-6. Comment characters are `#` for single lines, and `\"\"\" \"\"\"` for multiple lines. Comments are ignored by the interpreter.*\n",
    "    * What is supposed to happen in line 9? *The statement Hello world should be printed.*\n",
    "    * Use bash to make the script exectuable (e.g. `chmod u+x hello_world.py`) and execute it (e.g. `./hello_world.py`)."
   ]
  },
  {
   "cell_type": "code",
   "execution_count": 12,
   "metadata": {},
   "outputs": [],
   "source": [
    "# %load hello_world.py\n",
    "#!/opt/conda/bin/python3\n",
    "\n",
    "# The hash serves as a comment character (single line)\n",
    "\n",
    "\"\"\" This is a multi-line\n",
    "comment, they are also used as docstrings \"\"\"\n",
    "\n",
    "\n",
    "print(\"Hello world\")\n"
   ]
  },
  {
   "cell_type": "code",
   "execution_count": 1,
   "metadata": {},
   "outputs": [
    {
     "name": "stdout",
     "output_type": "stream",
     "text": [
      "Hello world\n"
     ]
    }
   ],
   "source": [
    "%%script bash\n",
    "chmod u+x hello_world.py\n",
    "./hello_world.py"
   ]
  },
  {
   "cell_type": "markdown",
   "metadata": {},
   "source": [
    "2. Open the script print_and_read.py (contained in the same folder as this JupyterNotebook file). In JupyterHub, you can e.g. doubleclick on the file. Read the code, carefully. \n",
    "   * Read the code carefully. What is supposed to happen when this script is executed?\n",
    "   * Make the script executable.\n",
    "   * Execute the script. Note: you will need an input file to call the script. The syntax for calling the script is stated in the script. It is `cat textfile | print_and_read.py`. You can use any file contained in the directory of this JupyterNotebook as input."
   ]
  },
  {
   "cell_type": "code",
   "execution_count": 13,
   "metadata": {},
   "outputs": [],
   "source": [
    "# %load print_and_read.py\n",
    "#!/opt/conda/bin/python3\n",
    "from __future__ import print_function\n",
    "# A future statement is a directive to the compiler that a\n",
    "# particular module should be compiled using syntax or\n",
    "# semantics that will be available in a specified future\n",
    "# release of Python. The future statement is intended to ease\n",
    "# migration to future versions of Python that introduce\n",
    "# incompatible changes to the language. It allows use of the\n",
    "# new features on a per-module basis before the release in\n",
    "# which the feature becomes standard.\n",
    "\n",
    "# call this script with:\n",
    "# cat textfile | print_and_read.py\n",
    "\n",
    "# Printing to STDOUT\n",
    "\n",
    "print(\"This is printed to STDOUT\")\n",
    "\n",
    "# Printing to STDERR\n",
    "\n",
    "\"\"\"eprint(str) print string to STDERR\"\"\"\n",
    "\n",
    "\n",
    "def eprint(*args, **kwargs):\n",
    "    import sys\n",
    "    print(*args, file=sys.stderr, **kwargs)\n",
    "\n",
    "\n",
    "eprint(\"This is printed to STDERR\")\n",
    "\n",
    "# Reading from STDIN (one of several options)\n",
    "\n",
    "import fileinput\n",
    "for line in fileinput.input():\n",
    "    print(line)\n"
   ]
  },
  {
   "cell_type": "code",
   "execution_count": 3,
   "metadata": {},
   "outputs": [
    {
     "name": "stdout",
     "output_type": "stream",
     "text": [
      "This is printed to STDOUT\n",
      "34\n",
      "\n",
      "23\n",
      "\n",
      "5\n",
      "\n",
      "6\n",
      "\n",
      "89\n",
      "\n",
      "34\n",
      "\n",
      "22\n",
      "\n",
      "5\n",
      "\n",
      "2\n",
      "\n",
      "68\n",
      "\n",
      "84\n",
      "\n",
      "3\n",
      "\n",
      "4\n",
      "\n",
      "9\n",
      "\n",
      "6\n",
      "\n",
      "43\n",
      "\n"
     ]
    },
    {
     "name": "stderr",
     "output_type": "stream",
     "text": [
      "This is printed to STDERR\n"
     ]
    }
   ],
   "source": [
    "%%script bash\n",
    "chmod u+x print_and_read.py\n",
    "cat numbers.lst | ./print_and_read.py"
   ]
  },
  {
   "cell_type": "markdown",
   "metadata": {},
   "source": [
    " 3. Write your own python script. It will be called print_name_subject.py. You find an empty template file in the directory of this JupyterNotebook. The script should contain code for the following steps:\n",
    "    1. Print the sentence \"Hello!\"\n",
    "    2. Print the statement \"Please enter you name!\"\n",
    "    3. Read a string (the name that a user will enter) from STDIN into a variable called `name`.\n",
    "    4. Print the question \"What is your study program?\"\n",
    "    5. Read a string (the study program that a user will enter) from STDIN into a variable called `subject`.\n",
    "    6. Print the statement *name studies subject.* (using the previously defined variables).\n",
    " All print directives may be written to STDOUT. Save your script. Make the script executable. Execute your script in a terminal.\n",
    " "
   ]
  },
  {
   "cell_type": "code",
   "execution_count": 14,
   "metadata": {},
   "outputs": [],
   "source": [
    "# %load print_name_subject.py\n",
    "#!/opt/conda/bin/python3\n",
    "\n",
    "# Katharina Hoff\n",
    "# katharina.hoff@uni-greifswald.de\n",
    "# April 28th 2020\n",
    "\n",
    "# example solution\n",
    "\n",
    "# Code for a)\n",
    "print(\"Hello!\")\n",
    "\n",
    "# Code for b)\n",
    "print(\"Please enter your name!\")\n",
    "\n",
    "# Code for c)\n",
    "name = input()\n",
    "\n",
    "# Code for d)\n",
    "print(\"What is your study program?\")\n",
    "\n",
    "# Code for e)\n",
    "subject = input()\n",
    "\n",
    "# Code for f)\n",
    "print(name + \" studies \" + subject);"
   ]
  },
  {
   "cell_type": "markdown",
   "metadata": {},
   "source": [
    " ![run_print_name_subject.jpg](run_print_name_subject.jpg)"
   ]
  },
  {
   "cell_type": "markdown",
   "metadata": {},
   "source": [
    "4. Imagine a biologist without bioinformatics knowledge asks you for advice: She has a file with sequences (`sequence.fa` in the same directory as this JupyterNotebook). She wants to know:\n",
    "      \n",
    "      a) How many sequences are contained in that file? (Hint: `grep`, `wc`)\n",
    "      \n",
    "      b) How long are the sequences in that file? Write a python script to answer this question. Use the template fasta_length.py in the same directory as this JupyterNotebook. Make your script exectuable. Execute the script to answer the question. Hints: `strip()`, `startswith()` (Yes, you may have to put these functions into a search engine to learn about them!)\n",
    "     \n",
    "   Additional information for both tasks: https://en.wikipedia.org/wiki/FASTA_format"
   ]
  },
  {
   "cell_type": "code",
   "execution_count": 11,
   "metadata": {},
   "outputs": [
    {
     "name": "stdout",
     "output_type": "stream",
     "text": [
      "55\n",
      "55\n",
      "55\n",
      "55\n"
     ]
    }
   ],
   "source": [
    "%%script bash\n",
    "# solution to a)\n",
    "grep -c \">\" sequences.fa\n",
    "# or\n",
    "grep \">\" sequences.fa | wc -l\n",
    "# or\n",
    "grep -c \\> sequences.fa\n",
    "# or\n",
    "grep \\> sequences.fa | wc -l"
   ]
  },
  {
   "cell_type": "markdown",
   "metadata": {},
   "source": [
    "*Warning:* Remember that the `>` operator redirects STDOUT to file. If you forget got quote the operator, it will not be used as pattern, but as redirection operator.\n",
    "\n",
    "Solution to b)"
   ]
  },
  {
   "cell_type": "code",
   "execution_count": 15,
   "metadata": {},
   "outputs": [],
   "source": [
    "# %load fasta_length.py\n",
    "#!/opt/conda/bin/python3\n",
    "\n",
    "# Author: Katharina Hoff\n",
    "# Matriculation Number: NA\n",
    "# Study Program: Molecular Biology\n",
    "# E-Mail: katharina.hoff@uni-greifswald.de\n",
    "# Last modified on: April 28th 2020\n",
    "\n",
    "# call this script with:\n",
    "# cat sequences.fa | fasta_length.py\n",
    "\n",
    "# insert code at places that contain capitalized comments (LIKE THIS)\n",
    "\n",
    "import fileinput\n",
    "\n",
    "len_dict = {}\n",
    "\n",
    "for line in fileinput.input():\n",
    "    if not line:\n",
    "        continue\n",
    "    else:\n",
    "        line = line.strip()\n",
    "        if line.startswith(\">\"):\n",
    "            current_header = line\n",
    "            len_dict[current_header] = 0\n",
    "        else:\n",
    "            len_dict[current_header] += len(line)\n",
    "\n",
    "for seqname, length in len_dict.items():\n",
    "    print(\"Length of sequence \" + seqname + \" is \" + str(length))\n"
   ]
  },
  {
   "cell_type": "markdown",
   "metadata": {},
   "source": [
    "![run_fasta_length.jpg](run_fasta_length.jpg)\n",
    " \n",
    "  6. **Exercise for the more advanced programmers among you, please skip if you feel overwhelmed, already):** Write a script num_stats.py (template is contained in the same folder as this JupyterNotebook file), that will compute the minimum, maximum and mean (hint: `numpy`, yes, put that into a search engine...) for a file that contains one number per line. Make the script executable. Execute the script. You can use `numbers.lst` as input file."
   ]
  },
  {
   "cell_type": "code",
   "execution_count": 16,
   "metadata": {},
   "outputs": [],
   "source": [
    "# %load num_stats.py\n",
    "#!/usr/bin/env python3\n",
    "\n",
    "# Author: Katharina J. Hoff\n",
    "# Matriculation Number: NA\n",
    "# Study Program: NA\n",
    "# E-Mail: katharina.hoff@uni-greifswald.de\n",
    "# Last modified on Apr 16th 2018\n",
    "\n",
    "# call this script with:\n",
    "# cat numbers.lst | num_stats.pl\n",
    "\n",
    "import fileinput\n",
    "import numpy\n",
    "\n",
    "numbers = []\n",
    "\n",
    "for line in fileinput.input():\n",
    "    if not line:\n",
    "        continue\n",
    "    else:\n",
    "        line = line.strip()\n",
    "        numbers.append(float(line))\n",
    "\n",
    "print(\"The minimum is: \" + str(min(numbers)))\n",
    "print(\"The maximum is: \" + str(max(numbers)))\n",
    "print(\"The mean is: \" + str(numpy.mean(numbers)))\n"
   ]
  },
  {
   "cell_type": "code",
   "execution_count": 18,
   "metadata": {},
   "outputs": [
    {
     "name": "stdout",
     "output_type": "stream",
     "text": [
      "The minimum is: 2.0\n",
      "The maximum is: 89.0\n",
      "The mean is: 27.3125\n"
     ]
    }
   ],
   "source": [
    "%%script bash\n",
    "chmod u+x num_stats.py\n",
    "cat numbers.lst | ./num_stats.py"
   ]
  },
  {
   "cell_type": "code",
   "execution_count": null,
   "metadata": {},
   "outputs": [],
   "source": []
  }
 ],
 "metadata": {
  "kernelspec": {
   "display_name": "Python 3",
   "language": "python",
   "name": "python3"
  },
  "language_info": {
   "codemirror_mode": {
    "name": "ipython",
    "version": 3
   },
   "file_extension": ".py",
   "mimetype": "text/x-python",
   "name": "python",
   "nbconvert_exporter": "python",
   "pygments_lexer": "ipython3",
   "version": "3.7.6"
  }
 },
 "nbformat": 4,
 "nbformat_minor": 4
}
